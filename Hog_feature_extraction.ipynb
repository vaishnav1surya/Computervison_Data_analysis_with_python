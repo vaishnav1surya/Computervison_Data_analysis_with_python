{
 "cells": [
  {
   "cell_type": "code",
   "execution_count": 2,
   "metadata": {},
   "outputs": [],
   "source": [
    "import cv2\n",
    "import pandas as pd\n",
    "import numpy as np\n",
    "import os\n",
    "\n",
    "from skimage.feature import hog\n",
    "\n",
    "import warnings\n",
    "\n",
    "warnings.filterwarnings('ignore')"
   ]
  },
  {
   "cell_type": "code",
   "execution_count": 3,
   "metadata": {},
   "outputs": [
    {
     "name": "stdout",
     "output_type": "stream",
     "text": [
      "Bacterial : 241\n",
      "Fungal : 210\n",
      "Healthy : 280\n",
      "Hypersensitive : 210\n"
     ]
    }
   ],
   "source": [
    "# Creating array\n",
    "\n",
    "images = []\n",
    "labels = []\n",
    "\n",
    "#Define dataset\n",
    "Data_path = \"./Dataset/Resized/\"\n",
    "\n",
    "#Define Class labels and corresponding Folder names\n",
    "\n",
    "class_labels = ['Bacterial', 'Fungal', 'Healthy', 'Hypersensitive']\n",
    "class_folders = ['Bacterial', 'Fungal', 'Healthy', 'Hypersensitive']\n",
    "\n",
    "#Appending all images\n",
    "\n",
    "\n",
    "for i in class_folders:\n",
    "    count = 0\n",
    "    for filename in os.listdir(Data_path + i):\n",
    "        # Read the image file directly in grayscale mode\n",
    "        img = cv2.imread(Data_path + i + '/' + filename, cv2.IMREAD_GRAYSCALE)\n",
    "\n",
    "        # Check if the image is valid\n",
    "        if img is not None:\n",
    "            images.append(img)\n",
    "            labels.append(class_folders.index(i))\n",
    "            count += 1\n",
    "            if count == 500:\n",
    "                break\n",
    "            \n",
    "    print(i + ' : ' + str(count))\n",
    "\n",
    "\n",
    "\n",
    "#Importing images in numpy arrey\n",
    "\n",
    "images = np.array(images)\n",
    "lables = np.array(labels)"
   ]
  },
  {
   "cell_type": "code",
   "execution_count": 18,
   "metadata": {},
   "outputs": [],
   "source": [
    "# Hog Feature Extraction....\n",
    "\n",
    "def hog_feature_extraction(images):\n",
    "\n",
    "    features = []\n",
    "    orientations = 9\n",
    "    pixels_per_cell = (8, 8)\n",
    "    cells_per_block = (2, 2)\n",
    "    visualize = False\n",
    "    normalize = True\n",
    "\n",
    "    for img in images:\n",
    "\n",
    "        # cv2.imshow('img', img)\n",
    "        # cv2.waitKey(50)\n",
    "        # cv2.destroyAllWindows()\n",
    "\n",
    "        hog_features = hog(img, orientations=orientations, pixels_per_cell=pixels_per_cell,\n",
    "                       cells_per_block=cells_per_block, visualize=visualize)\n",
    "        \n",
    "        features.append(hog_features)\n",
    "\n",
    "    return features"
   ]
  },
  {
   "cell_type": "code",
   "execution_count": 19,
   "metadata": {},
   "outputs": [
    {
     "data": {
      "text/plain": [
       "(941, 1080, 1920)"
      ]
     },
     "execution_count": 19,
     "metadata": {},
     "output_type": "execute_result"
    }
   ],
   "source": [
    "images.shape"
   ]
  },
  {
   "cell_type": "code",
   "execution_count": 20,
   "metadata": {},
   "outputs": [],
   "source": [
    "import numpy as np\n",
    "\n",
    "# images = cv2.imread(r'Dataset\\Resized\\Bacterial\\B (1).jpg')\n",
    "\n",
    "features = hog_feature_extraction(images)\n",
    "\n"
   ]
  },
  {
   "cell_type": "code",
   "execution_count": 24,
   "metadata": {},
   "outputs": [],
   "source": [
    "features = np.array(features)"
   ]
  },
  {
   "cell_type": "code",
   "execution_count": 25,
   "metadata": {},
   "outputs": [
    {
     "data": {
      "text/plain": [
       "(941, 1152936)"
      ]
     },
     "execution_count": 25,
     "metadata": {},
     "output_type": "execute_result"
    }
   ],
   "source": [
    "features.shape"
   ]
  },
  {
   "cell_type": "code",
   "execution_count": 26,
   "metadata": {},
   "outputs": [],
   "source": [
    "np.save(\"hog_features.npy\", features)"
   ]
  },
  {
   "cell_type": "code",
   "execution_count": null,
   "metadata": {},
   "outputs": [],
   "source": []
  }
 ],
 "metadata": {
  "kernelspec": {
   "display_name": "Python 3",
   "language": "python",
   "name": "python3"
  },
  "language_info": {
   "codemirror_mode": {
    "name": "ipython",
    "version": 3
   },
   "file_extension": ".py",
   "mimetype": "text/x-python",
   "name": "python",
   "nbconvert_exporter": "python",
   "pygments_lexer": "ipython3",
   "version": "3.6.4"
  },
  "orig_nbformat": 4
 },
 "nbformat": 4,
 "nbformat_minor": 2
}
