{
 "cells": [
  {
   "attachments": {},
   "cell_type": "markdown",
   "metadata": {},
   "source": [
    "### Importing Libraries"
   ]
  },
  {
   "cell_type": "code",
   "execution_count": 11,
   "metadata": {},
   "outputs": [],
   "source": [
    "import pandas as pd\n",
    "import numpy as np\n",
    "import joblib\n",
    "from sklearn.model_selection import train_test_split\n",
    "from sklearn.metrics import accuracy_score\n",
    "from sklearn import metrics\n",
    "from sklearn.metrics import confusion_matrix"
   ]
  },
  {
   "attachments": {},
   "cell_type": "markdown",
   "metadata": {},
   "source": [
    "##### Concatenate Features of GLCM and HOG"
   ]
  },
  {
   "cell_type": "code",
   "execution_count": 12,
   "metadata": {},
   "outputs": [],
   "source": [
    "# Load GLCM and HOG features\n",
    "glcm_features = np.load('GLCM_features.npy')\n",
    "hog_features = np.load('hog_features.npy')"
   ]
  },
  {
   "cell_type": "code",
   "execution_count": 13,
   "metadata": {},
   "outputs": [
    {
     "data": {
      "text/plain": [
       "(940, 25)"
      ]
     },
     "execution_count": 13,
     "metadata": {},
     "output_type": "execute_result"
    }
   ],
   "source": [
    "glcm_features.shape"
   ]
  },
  {
   "cell_type": "code",
   "execution_count": 14,
   "metadata": {},
   "outputs": [
    {
     "data": {
      "text/plain": [
       "(941, 1152936)"
      ]
     },
     "execution_count": 14,
     "metadata": {},
     "output_type": "execute_result"
    }
   ],
   "source": [
    "hog_features.shape"
   ]
  },
  {
   "cell_type": "code",
   "execution_count": 19,
   "metadata": {},
   "outputs": [],
   "source": [
    "# # pad the smaller array with zeros along the first axis\n",
    "# if glcm_features.shape[0] > hog_features.shape[0]:\n",
    "#     pad_width = ((0, glcm_features.shape[0] - hog_features.shape[0]), (0, 0))\n",
    "#     hog_features = np.pad(hog_features, pad_width=pad_width, mode='constant')\n",
    "# else:\n",
    "#     pad_width = ((0, hog_features.shape[0] - glcm_features.shape[0]), (0, 0))\n",
    "#     glcm_features = np.pad(glcm_features, pad_width=pad_width, mode='constant')"
   ]
  },
  {
   "cell_type": "code",
   "execution_count": null,
   "metadata": {},
   "outputs": [],
   "source": [
    "# # concatenate the two feature arrays along the first axis\n",
    "# concatenated_features = np.concatenate((glcm_features, hog_features), axis=1)\n",
    "\n",
    "# print(concatenated_features.shape)"
   ]
  },
  {
   "cell_type": "code",
   "execution_count": null,
   "metadata": {},
   "outputs": [],
   "source": [
    "# # save the concatenated features to a new file\n",
    "# np.save('concatenated_features.npy', concatenated_features)"
   ]
  },
  {
   "cell_type": "code",
   "execution_count": null,
   "metadata": {},
   "outputs": [],
   "source": []
  },
  {
   "cell_type": "code",
   "execution_count": 8,
   "metadata": {},
   "outputs": [],
   "source": [
    "# Convert numpy arrays to pandas DataFrames\n",
    "glcm_df = pd.DataFrame(glcm_features)\n",
    "hog_df = pd.DataFrame(hog_features)"
   ]
  },
  {
   "cell_type": "code",
   "execution_count": null,
   "metadata": {},
   "outputs": [],
   "source": [
    "del hog_features\n",
    "\n",
    "del glcm_features"
   ]
  },
  {
   "cell_type": "code",
   "execution_count": null,
   "metadata": {},
   "outputs": [],
   "source": [
    "# Concatenate DataFrames using append and write to CSV file\n",
    "\n",
    "glcm_df.append(hog_df).to_csv('test.csv')"
   ]
  },
  {
   "cell_type": "code",
   "execution_count": null,
   "metadata": {},
   "outputs": [],
   "source": [
    "\n",
    "df = pd.read_csv('test.csv')            #Read CSV"
   ]
  },
  {
   "cell_type": "code",
   "execution_count": null,
   "metadata": {},
   "outputs": [],
   "source": [
    "print(df)"
   ]
  },
  {
   "cell_type": "code",
   "execution_count": null,
   "metadata": {},
   "outputs": [],
   "source": [
    "np.save('concatenated_features.npy', df)        "
   ]
  },
  {
   "attachments": {},
   "cell_type": "markdown",
   "metadata": {},
   "source": [
    "### Splitting Data"
   ]
  },
  {
   "cell_type": "code",
   "execution_count": null,
   "metadata": {},
   "outputs": [],
   "source": [
    "# Split the dataset into training and testing sets\n",
    "x_train, x_test, y_train, y_test = train_test_split(np.load('concatenated_features.npy'), np.load('Lables.npy'), test_size=0.2, random_state=42)"
   ]
  },
  {
   "attachments": {},
   "cell_type": "markdown",
   "metadata": {},
   "source": [
    "### Training Classifiers"
   ]
  },
  {
   "attachments": {},
   "cell_type": "markdown",
   "metadata": {},
   "source": [
    "#### Support Vector machine (SVM)\n"
   ]
  },
  {
   "cell_type": "code",
   "execution_count": null,
   "metadata": {},
   "outputs": [],
   "source": [
    "#Support Vector Machine Classifier\n",
    "from sklearn.svm import SVC"
   ]
  },
  {
   "cell_type": "code",
   "execution_count": null,
   "metadata": {},
   "outputs": [],
   "source": [
    "#Train SVM Model\n",
    "svm = SVC(kernel='linear', C=1.0, random_state=42)\n",
    "x_train_svm = x_train\n",
    "x_test_svm = x_test\n",
    "\n",
    "svm.fit(x_train_svm, y_train)\n",
    "\n",
    "joblib.dump(svm,'.model_SVM')\n",
    "\n",
    "y_pred_svm = svm.predict(x_test_svm)\n",
    "\n",
    "accuracy = accuracy_score(y_test, y_pred_svm)\n",
    "print(\"Accuracy:\",accuracy)\n",
    "\n",
    "print(\"Support Vector Machine Clasifier\")\n",
    "print(\"Train Accuracy:\",svm.score(x_train_svm, y_train))\n",
    "print(\"Test Accuracy:\",svm.score(x_test_svm, y_test))\n",
    "print(\"Precision Score: \",metrics.precision_score(y_test, y_pred_svm, pos_label='positive', average='micro'))\n",
    "print(\"Recall Score: \",metrics.recall_score(y_test, y_pred_svm, pos_label='positive', average='micro'))\n",
    "print(\"F1 Score: \",metrics.f1_score(y_test, y_pred_svm, pos_label='positive', average='micro'))\n",
    "print(\"Confusion Matrix: \")\n",
    "print(confusion_matrix(y_test, y_pred_svm,))"
   ]
  },
  {
   "attachments": {},
   "cell_type": "markdown",
   "metadata": {},
   "source": [
    "#### Random Forest (RF)"
   ]
  },
  {
   "cell_type": "code",
   "execution_count": null,
   "metadata": {},
   "outputs": [],
   "source": [
    "#Random Forest Classifier\n",
    "from sklearn.ensemble import RandomForestClassifier"
   ]
  },
  {
   "cell_type": "code",
   "execution_count": null,
   "metadata": {},
   "outputs": [],
   "source": [
    "#Train RF Model\n",
    "rf = RandomForestClassifier(n_estimators = 50)\n",
    "x_train_RF = x_train\n",
    "x_test_RF = x_test\n",
    "\n",
    "rf.fit(x_train_RF, y_train)\n",
    "\n",
    "joblib.dump(rf,'.model_RF')\n",
    "\n",
    "y_pred_rf = rf.predict(x_test_RF)\n",
    "\n",
    "accuracy = accuracy_score(y_test, y_pred_rf)\n",
    "print(\"Accuracy:\",accuracy)\n",
    "\n",
    "print(\"Random Forest Clasifier\")\n",
    "print(\"Train Accuracy:\",rf.score(x_train_RF, y_train))\n",
    "print(\"Test Accuracy:\",rf.score(x_test_RF, y_test))\n",
    "print(\"Precision Score: \",metrics.precision_score(y_test, y_pred_rf, pos_label='positive', average='micro'))\n",
    "print(\"Recall Score: \",metrics.recall_score(y_test, y_pred_rf, pos_label='po  sitive', average='micro'))\n",
    "print(\"F1 Score: \",metrics.f1_score(y_test, y_pred_rf, pos_label='positive', average='micro'))\n",
    "print(\"Confusion Matrix: \")\n",
    "print(confusion_matrix(y_test, y_pred_rf,))\n"
   ]
  },
  {
   "attachments": {},
   "cell_type": "markdown",
   "metadata": {},
   "source": [
    "#### K-Nearest Neighbors (KNN)"
   ]
  },
  {
   "cell_type": "code",
   "execution_count": null,
   "metadata": {},
   "outputs": [],
   "source": [
    "#K-Nearest Neighbors Classifier \n",
    "from sklearn.neighbors import KNeighborsClassifier "
   ]
  },
  {
   "cell_type": "code",
   "execution_count": null,
   "metadata": {},
   "outputs": [],
   "source": [
    "#KNN classifier\n",
    "knn = KNeighborsClassifier(n_neighbors = 5)\n",
    "x_train_knn = x_train\n",
    "x_test_knn = x_test\n",
    "\n",
    "knn.fit(x_train, y_train)\n",
    "\n",
    "joblib.dump(knn,\".model_KNN\")\n",
    "\n",
    "y_pred_knn = knn.predict(x_test)\n",
    "\n",
    "accuracy = accuracy_score(y_test, y_pred_knn)\n",
    "print(\"Accuracy:\",accuracy)\n",
    "\n",
    "print(\"KNN\")\n",
    "print(\"Train Accuracy:\",knn.score(x_train_knn, y_train))\n",
    "print(\"Test Accuracy:\",knn.score(x_test_knn, y_test))\n",
    "print(\"Precision Score: \",metrics.precision_score(y_test, y_pred_knn, pos_label='positive', average='micro'))\n",
    "print(\"Recall Score: \",metrics.recall_score(y_test, y_pred_knn, pos_label='positive', average='micro'))\n",
    "print(\"F1 Score: \",metrics.f1_score(y_test, y_pred_knn, pos_label='positive', average='micro'))\n",
    "print(\"Confusion Matrix: \")\n",
    "print(confusion_matrix(y_test, y_pred_knn,))"
   ]
  },
  {
   "attachments": {},
   "cell_type": "markdown",
   "metadata": {},
   "source": [
    "#### Xgboost"
   ]
  },
  {
   "cell_type": "code",
   "execution_count": null,
   "metadata": {},
   "outputs": [],
   "source": [
    "#xgboost classifier\n",
    "from xgboost import XGBClassifier"
   ]
  },
  {
   "cell_type": "code",
   "execution_count": null,
   "metadata": {},
   "outputs": [],
   "source": [
    "xgboost = XGBClassifier()\n",
    "x_train_xgboost = x_train\n",
    "x_test_xgboost = x_test\n",
    "\n",
    "xgboost.fit(x_train_xgboost, y_train)\n",
    "\n",
    "joblib.dump(xgboost,\"model_Xgboost\")\n",
    "\n",
    "y_pred_xgboost = xgboost.predict(x_test)\n",
    "\n",
    "accuracy = accuracy_score(y_test, y_pred_xgboost)\n",
    "print(\"Accuracy:\",accuracy)\n",
    "\n",
    "print(\"XGboost\")\n",
    "print(\"Train Accuracy:\",xgboost.score(x_train_xgboost, y_train))\n",
    "print(\"Test Accuracy:\",xgboost.score(x_test_xgboost, y_test))\n",
    "print(\"Precision Score: \",metrics.precision_score(y_test, y_pred_xgboost, pos_label='positive', average='micro'))\n",
    "print(\"Recall Score: \",metrics.recall_score(y_test, y_pred_xgboost, pos_label='positive', average='micro'))\n",
    "print(\"F1 Score: \",metrics.f1_score(y_test, y_pred_xgboost, pos_label='positive', average='micro'))\n",
    "print(\"Confusion Matrix: \")\n",
    "print(confusion_matrix(y_test, y_pred_xgboost,))"
   ]
  },
  {
   "attachments": {},
   "cell_type": "markdown",
   "metadata": {},
   "source": [
    "#### Voting Classifier"
   ]
  },
  {
   "cell_type": "code",
   "execution_count": null,
   "metadata": {},
   "outputs": [],
   "source": [
    "#Voating classifier\n",
    "from sklearn.ensemble import VotingClassifier"
   ]
  },
  {
   "cell_type": "code",
   "execution_count": null,
   "metadata": {},
   "outputs": [],
   "source": [
    "voting = VotingClassifier( estimators=[( ('SVM', model_SVM),'RF', model_RF),('KNN', model_KNN), ('xgboost', model_Xgboost)], voting='hard')\n",
    "\n",
    "voting.fit(x_train, y_train)\n",
    "\n",
    "y_pred_voting = voting.predict(x_test)\n",
    "\n",
    "joblib.dump(voting,\"model_voting\")\n",
    "\n",
    "accuracy = accuracy_score(y_test, y_pred_voting)\n",
    "print(\"Accuracy:\",accuracy)\n",
    "\n",
    "print(\"Voting Classifier Hard\")\n",
    "print(\"Train Accuracy:\",voting.score(x_train, y_train))\n",
    "print(\"Test Accuracy:\",voting.score(x_test, y_test))\n",
    "print(\"Precision Score: \",metrics.precision_score(y_test, y_pred_voting,pos_label='positive', average='micro'))\n",
    "print(\"Recall Score: \",metrics.recall_score(y_test, y_pred_voting,pos_label='positive', average='micro'))\n",
    "print(\"F2 Score: \",metrics.fbeta_score(y_test, y_pred_voting,pos_label='positive', average='micro',beta=2.0))\n",
    "print(\"F1 Score: \",metrics.f1_score(y_test, y_pred_voting,pos_label='positive', average='micro'))\n",
    "print(\"Confusion Matrix: \")\n",
    "print(confusion_matrix(y_test, y_pred_voting))"
   ]
  }
 ],
 "metadata": {
  "kernelspec": {
   "display_name": "Python 3",
   "language": "python",
   "name": "python3"
  },
  "language_info": {
   "codemirror_mode": {
    "name": "ipython",
    "version": 3
   },
   "file_extension": ".py",
   "mimetype": "text/x-python",
   "name": "python",
   "nbconvert_exporter": "python",
   "pygments_lexer": "ipython3",
   "version": "3.6.4"
  },
  "orig_nbformat": 4
 },
 "nbformat": 4,
 "nbformat_minor": 2
}
